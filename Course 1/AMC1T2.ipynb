{
 "cells": [
  {
   "cell_type": "code",
   "execution_count": 1,
   "id": "3f2f44da",
   "metadata": {},
   "outputs": [],
   "source": [
    "# DS Basics\n",
    "import numpy as np\n",
    "import pandas as pd\n",
    "import matplotlib.pyplot as plt\n",
    "import seaborn as sns"
   ]
  },
  {
   "cell_type": "code",
   "execution_count": 2,
   "id": "3643128f",
   "metadata": {},
   "outputs": [],
   "source": [
    "# SKLearn Stuff\n",
    "from sklearn.model_selection import train_test_split\n",
    "from sklearn.metrics import accuracy_score, classification_report\n",
    "from sklearn.ensemble import RandomForestClassifier, GradientBoostingClassifier\n",
    "from sklearn.tree import DecisionTreeClassifier\n",
    "from sklearn.model_selection import cross_val_score\n",
    "from sklearn.model_selection import KFold"
   ]
  },
  {
   "cell_type": "code",
   "execution_count": 3,
   "id": "c62fc16a",
   "metadata": {},
   "outputs": [],
   "source": [
    "# helpers\n",
    "%matplotlib inline"
   ]
  },
  {
   "cell_type": "code",
   "execution_count": 4,
   "id": "dbb97887",
   "metadata": {},
   "outputs": [],
   "source": [
    "import six\n",
    "import sys\n",
    "sys.modules['sklearn.externals.six'] = six"
   ]
  },
  {
   "cell_type": "code",
   "execution_count": 5,
   "id": "b9ee9ba8",
   "metadata": {},
   "outputs": [],
   "source": [
    "# Grahpviz \n",
    "from sklearn.externals.six import StringIO \n",
    "from IPython.display import Image \n",
    "from sklearn.tree import export_graphviz\n",
    "import pydotplus\n",
    "import graphviz"
   ]
  },
  {
   "cell_type": "code",
   "execution_count": 6,
   "id": "bf1b4d4a",
   "metadata": {},
   "outputs": [],
   "source": [
    "from sklearn.tree import plot_tree"
   ]
  },
  {
   "cell_type": "markdown",
   "id": "1c644d52",
   "metadata": {},
   "source": [
    "# Import data"
   ]
  },
  {
   "cell_type": "code",
   "execution_count": 7,
   "id": "e0b1f059",
   "metadata": {},
   "outputs": [
    {
     "name": "stdout",
     "output_type": "stream",
     "text": [
      "C:\\Users\\Alma Mtz\\Documents\n",
      " Volume in drive C is OS\n",
      " Volume Serial Number is FC64-A520\n",
      "\n",
      " Directory of C:\\Users\\Alma Mtz\\Documents\n",
      "\n",
      "08/29/2021  06:45 PM    <DIR>          .\n",
      "08/29/2021  06:45 PM    <DIR>          ..\n",
      "08/21/2021  09:39 PM    <DIR>          .ipynb_checkpoints\n",
      "08/08/2021  11:23 AM           146,573 AMC1T1.ipynb\n",
      "08/29/2021  06:45 PM            28,813 AMC1T2.ipynb\n",
      "07/25/2021  12:30 AM             9,345 C1T1.ipynb\n",
      "08/10/2021  01:03 AM           468,459 C1T2-Copy1.ipynb\n",
      "08/14/2021  11:42 AM             3,906 C1T2.ipynb\n",
      "07/25/2021  12:04 AM         1,348,525 Demographic_Data.csv\n",
      "               6 File(s)      2,005,621 bytes\n",
      "               3 Dir(s)  423,298,539,520 bytes free\n"
     ]
    }
   ],
   "source": [
    "!cd\n",
    "!dir"
   ]
  },
  {
   "cell_type": "code",
   "execution_count": 8,
   "id": "805c0a3b",
   "metadata": {},
   "outputs": [
    {
     "name": "stdout",
     "output_type": "stream",
     "text": [
      "(80000, 5)\n"
     ]
    }
   ],
   "source": [
    "data = pd.read_csv(\"Demographic_Data.csv\")\n",
    "print(data.shape)"
   ]
  },
  {
   "cell_type": "markdown",
   "id": "9524721c",
   "metadata": {},
   "source": [
    "# Evaluate Data"
   ]
  },
  {
   "cell_type": "code",
   "execution_count": 9,
   "id": "636b5b56",
   "metadata": {},
   "outputs": [
    {
     "data": {
      "text/plain": [
       "in-store      int64\n",
       "age           int64\n",
       "items         int64\n",
       "amount      float64\n",
       "region        int64\n",
       "dtype: object"
      ]
     },
     "execution_count": 9,
     "metadata": {},
     "output_type": "execute_result"
    }
   ],
   "source": [
    "data.dtypes"
   ]
  },
  {
   "cell_type": "code",
   "execution_count": 10,
   "id": "9410dbfa",
   "metadata": {},
   "outputs": [
    {
     "name": "stdout",
     "output_type": "stream",
     "text": [
      "<class 'pandas.core.frame.DataFrame'>\n",
      "RangeIndex: 80000 entries, 0 to 79999\n",
      "Data columns (total 5 columns):\n",
      " #   Column    Non-Null Count  Dtype  \n",
      "---  ------    --------------  -----  \n",
      " 0   in-store  80000 non-null  int64  \n",
      " 1   age       80000 non-null  int64  \n",
      " 2   items     80000 non-null  int64  \n",
      " 3   amount    80000 non-null  float64\n",
      " 4   region    80000 non-null  int64  \n",
      "dtypes: float64(1), int64(4)\n",
      "memory usage: 3.1 MB\n"
     ]
    }
   ],
   "source": [
    "data.info()"
   ]
  },
  {
   "cell_type": "code",
   "execution_count": 11,
   "id": "e2f78137",
   "metadata": {},
   "outputs": [
    {
     "data": {
      "text/html": [
       "<div>\n",
       "<style scoped>\n",
       "    .dataframe tbody tr th:only-of-type {\n",
       "        vertical-align: middle;\n",
       "    }\n",
       "\n",
       "    .dataframe tbody tr th {\n",
       "        vertical-align: top;\n",
       "    }\n",
       "\n",
       "    .dataframe thead th {\n",
       "        text-align: right;\n",
       "    }\n",
       "</style>\n",
       "<table border=\"1\" class=\"dataframe\">\n",
       "  <thead>\n",
       "    <tr style=\"text-align: right;\">\n",
       "      <th></th>\n",
       "      <th>in-store</th>\n",
       "      <th>age</th>\n",
       "      <th>items</th>\n",
       "      <th>amount</th>\n",
       "      <th>region</th>\n",
       "    </tr>\n",
       "  </thead>\n",
       "  <tbody>\n",
       "    <tr>\n",
       "      <th>0</th>\n",
       "      <td>0</td>\n",
       "      <td>37</td>\n",
       "      <td>4</td>\n",
       "      <td>281.03</td>\n",
       "      <td>2</td>\n",
       "    </tr>\n",
       "    <tr>\n",
       "      <th>1</th>\n",
       "      <td>0</td>\n",
       "      <td>35</td>\n",
       "      <td>2</td>\n",
       "      <td>219.51</td>\n",
       "      <td>2</td>\n",
       "    </tr>\n",
       "    <tr>\n",
       "      <th>2</th>\n",
       "      <td>1</td>\n",
       "      <td>45</td>\n",
       "      <td>3</td>\n",
       "      <td>1525.70</td>\n",
       "      <td>4</td>\n",
       "    </tr>\n",
       "    <tr>\n",
       "      <th>3</th>\n",
       "      <td>1</td>\n",
       "      <td>46</td>\n",
       "      <td>3</td>\n",
       "      <td>715.25</td>\n",
       "      <td>3</td>\n",
       "    </tr>\n",
       "    <tr>\n",
       "      <th>4</th>\n",
       "      <td>1</td>\n",
       "      <td>33</td>\n",
       "      <td>4</td>\n",
       "      <td>1937.50</td>\n",
       "      <td>1</td>\n",
       "    </tr>\n",
       "  </tbody>\n",
       "</table>\n",
       "</div>"
      ],
      "text/plain": [
       "   in-store  age  items   amount  region\n",
       "0         0   37      4   281.03       2\n",
       "1         0   35      2   219.51       2\n",
       "2         1   45      3  1525.70       4\n",
       "3         1   46      3   715.25       3\n",
       "4         1   33      4  1937.50       1"
      ]
     },
     "execution_count": 11,
     "metadata": {},
     "output_type": "execute_result"
    }
   ],
   "source": [
    "data.head()"
   ]
  },
  {
   "cell_type": "markdown",
   "id": "ebf93e66",
   "metadata": {},
   "source": [
    "# Preprocess"
   ]
  },
  {
   "cell_type": "markdown",
   "id": "4d40a16c",
   "metadata": {},
   "source": [
    "### Duplicates"
   ]
  },
  {
   "cell_type": "code",
   "execution_count": 12,
   "id": "954faa7e",
   "metadata": {},
   "outputs": [
    {
     "data": {
      "text/plain": [
       "True"
      ]
     },
     "execution_count": 12,
     "metadata": {},
     "output_type": "execute_result"
    }
   ],
   "source": [
    "data.duplicated().any()"
   ]
  },
  {
   "cell_type": "code",
   "execution_count": 13,
   "id": "6c7e2178",
   "metadata": {},
   "outputs": [
    {
     "name": "stdout",
     "output_type": "stream",
     "text": [
      "(21, 5)\n"
     ]
    },
    {
     "data": {
      "text/html": [
       "<div>\n",
       "<style scoped>\n",
       "    .dataframe tbody tr th:only-of-type {\n",
       "        vertical-align: middle;\n",
       "    }\n",
       "\n",
       "    .dataframe tbody tr th {\n",
       "        vertical-align: top;\n",
       "    }\n",
       "\n",
       "    .dataframe thead th {\n",
       "        text-align: right;\n",
       "    }\n",
       "</style>\n",
       "<table border=\"1\" class=\"dataframe\">\n",
       "  <thead>\n",
       "    <tr style=\"text-align: right;\">\n",
       "      <th></th>\n",
       "      <th>in-store</th>\n",
       "      <th>age</th>\n",
       "      <th>items</th>\n",
       "      <th>amount</th>\n",
       "      <th>region</th>\n",
       "    </tr>\n",
       "  </thead>\n",
       "  <tbody>\n",
       "    <tr>\n",
       "      <th>17858</th>\n",
       "      <td>0</td>\n",
       "      <td>76</td>\n",
       "      <td>6</td>\n",
       "      <td>283.61</td>\n",
       "      <td>2</td>\n",
       "    </tr>\n",
       "    <tr>\n",
       "      <th>26112</th>\n",
       "      <td>0</td>\n",
       "      <td>67</td>\n",
       "      <td>4</td>\n",
       "      <td>320.41</td>\n",
       "      <td>2</td>\n",
       "    </tr>\n",
       "    <tr>\n",
       "      <th>29343</th>\n",
       "      <td>1</td>\n",
       "      <td>23</td>\n",
       "      <td>2</td>\n",
       "      <td>1019.50</td>\n",
       "      <td>4</td>\n",
       "    </tr>\n",
       "    <tr>\n",
       "      <th>33834</th>\n",
       "      <td>1</td>\n",
       "      <td>38</td>\n",
       "      <td>3</td>\n",
       "      <td>1993.80</td>\n",
       "      <td>1</td>\n",
       "    </tr>\n",
       "    <tr>\n",
       "      <th>34214</th>\n",
       "      <td>1</td>\n",
       "      <td>31</td>\n",
       "      <td>5</td>\n",
       "      <td>1488.10</td>\n",
       "      <td>4</td>\n",
       "    </tr>\n",
       "    <tr>\n",
       "      <th>34706</th>\n",
       "      <td>0</td>\n",
       "      <td>39</td>\n",
       "      <td>5</td>\n",
       "      <td>1268.00</td>\n",
       "      <td>4</td>\n",
       "    </tr>\n",
       "    <tr>\n",
       "      <th>35971</th>\n",
       "      <td>0</td>\n",
       "      <td>38</td>\n",
       "      <td>7</td>\n",
       "      <td>391.51</td>\n",
       "      <td>2</td>\n",
       "    </tr>\n",
       "    <tr>\n",
       "      <th>43958</th>\n",
       "      <td>1</td>\n",
       "      <td>22</td>\n",
       "      <td>1</td>\n",
       "      <td>1303.20</td>\n",
       "      <td>4</td>\n",
       "    </tr>\n",
       "    <tr>\n",
       "      <th>44308</th>\n",
       "      <td>1</td>\n",
       "      <td>26</td>\n",
       "      <td>5</td>\n",
       "      <td>1495.70</td>\n",
       "      <td>4</td>\n",
       "    </tr>\n",
       "    <tr>\n",
       "      <th>45164</th>\n",
       "      <td>0</td>\n",
       "      <td>79</td>\n",
       "      <td>6</td>\n",
       "      <td>342.28</td>\n",
       "      <td>2</td>\n",
       "    </tr>\n",
       "    <tr>\n",
       "      <th>47414</th>\n",
       "      <td>0</td>\n",
       "      <td>27</td>\n",
       "      <td>6</td>\n",
       "      <td>1555.10</td>\n",
       "      <td>4</td>\n",
       "    </tr>\n",
       "    <tr>\n",
       "      <th>51600</th>\n",
       "      <td>0</td>\n",
       "      <td>56</td>\n",
       "      <td>2</td>\n",
       "      <td>1941.70</td>\n",
       "      <td>4</td>\n",
       "    </tr>\n",
       "    <tr>\n",
       "      <th>52013</th>\n",
       "      <td>1</td>\n",
       "      <td>50</td>\n",
       "      <td>5</td>\n",
       "      <td>1889.40</td>\n",
       "      <td>1</td>\n",
       "    </tr>\n",
       "    <tr>\n",
       "      <th>53652</th>\n",
       "      <td>0</td>\n",
       "      <td>29</td>\n",
       "      <td>2</td>\n",
       "      <td>144.43</td>\n",
       "      <td>2</td>\n",
       "    </tr>\n",
       "    <tr>\n",
       "      <th>58454</th>\n",
       "      <td>0</td>\n",
       "      <td>76</td>\n",
       "      <td>1</td>\n",
       "      <td>259.44</td>\n",
       "      <td>2</td>\n",
       "    </tr>\n",
       "    <tr>\n",
       "      <th>59539</th>\n",
       "      <td>1</td>\n",
       "      <td>49</td>\n",
       "      <td>2</td>\n",
       "      <td>1162.00</td>\n",
       "      <td>4</td>\n",
       "    </tr>\n",
       "    <tr>\n",
       "      <th>59859</th>\n",
       "      <td>0</td>\n",
       "      <td>30</td>\n",
       "      <td>7</td>\n",
       "      <td>2535.10</td>\n",
       "      <td>4</td>\n",
       "    </tr>\n",
       "    <tr>\n",
       "      <th>61439</th>\n",
       "      <td>1</td>\n",
       "      <td>32</td>\n",
       "      <td>4</td>\n",
       "      <td>1106.10</td>\n",
       "      <td>4</td>\n",
       "    </tr>\n",
       "    <tr>\n",
       "      <th>63970</th>\n",
       "      <td>1</td>\n",
       "      <td>42</td>\n",
       "      <td>5</td>\n",
       "      <td>1731.10</td>\n",
       "      <td>4</td>\n",
       "    </tr>\n",
       "    <tr>\n",
       "      <th>75506</th>\n",
       "      <td>0</td>\n",
       "      <td>44</td>\n",
       "      <td>2</td>\n",
       "      <td>1756.70</td>\n",
       "      <td>4</td>\n",
       "    </tr>\n",
       "    <tr>\n",
       "      <th>78688</th>\n",
       "      <td>1</td>\n",
       "      <td>40</td>\n",
       "      <td>2</td>\n",
       "      <td>1080.60</td>\n",
       "      <td>1</td>\n",
       "    </tr>\n",
       "  </tbody>\n",
       "</table>\n",
       "</div>"
      ],
      "text/plain": [
       "       in-store  age  items   amount  region\n",
       "17858         0   76      6   283.61       2\n",
       "26112         0   67      4   320.41       2\n",
       "29343         1   23      2  1019.50       4\n",
       "33834         1   38      3  1993.80       1\n",
       "34214         1   31      5  1488.10       4\n",
       "34706         0   39      5  1268.00       4\n",
       "35971         0   38      7   391.51       2\n",
       "43958         1   22      1  1303.20       4\n",
       "44308         1   26      5  1495.70       4\n",
       "45164         0   79      6   342.28       2\n",
       "47414         0   27      6  1555.10       4\n",
       "51600         0   56      2  1941.70       4\n",
       "52013         1   50      5  1889.40       1\n",
       "53652         0   29      2   144.43       2\n",
       "58454         0   76      1   259.44       2\n",
       "59539         1   49      2  1162.00       4\n",
       "59859         0   30      7  2535.10       4\n",
       "61439         1   32      4  1106.10       4\n",
       "63970         1   42      5  1731.10       4\n",
       "75506         0   44      2  1756.70       4\n",
       "78688         1   40      2  1080.60       1"
      ]
     },
     "execution_count": 13,
     "metadata": {},
     "output_type": "execute_result"
    }
   ],
   "source": [
    "print(data[data.duplicated()].shape)\n",
    "data[data.duplicated()]"
   ]
  },
  {
   "cell_type": "code",
   "execution_count": 14,
   "id": "db65ad00",
   "metadata": {},
   "outputs": [
    {
     "data": {
      "text/plain": [
       "False"
      ]
     },
     "execution_count": 14,
     "metadata": {},
     "output_type": "execute_result"
    }
   ],
   "source": [
    "data = data.drop_duplicates()\n",
    "data.duplicated().any()"
   ]
  },
  {
   "cell_type": "markdown",
   "id": "a7026d1a",
   "metadata": {},
   "source": [
    "### Null values"
   ]
  },
  {
   "cell_type": "code",
   "execution_count": 15,
   "id": "62746f14",
   "metadata": {},
   "outputs": [
    {
     "data": {
      "text/plain": [
       "in-store    0\n",
       "age         0\n",
       "items       0\n",
       "amount      0\n",
       "region      0\n",
       "dtype: int64"
      ]
     },
     "execution_count": 15,
     "metadata": {},
     "output_type": "execute_result"
    }
   ],
   "source": [
    "data.isnull().any()\n",
    "data.isnull().sum()"
   ]
  },
  {
   "cell_type": "markdown",
   "id": "0cd727ec",
   "metadata": {},
   "source": [
    "### Discretize\n",
    "* Discretize amount and age"
   ]
  },
  {
   "cell_type": "code",
   "execution_count": 16,
   "id": "0eeb4bac",
   "metadata": {},
   "outputs": [
    {
     "data": {
      "text/plain": [
       "0             (2.01, 753.754]\n",
       "1             (2.01, 753.754]\n",
       "2        (1502.502, 2251.251]\n",
       "3             (2.01, 753.754]\n",
       "4        (1502.502, 2251.251]\n",
       "                 ...         \n",
       "79995         (2.01, 753.754]\n",
       "79996    (1502.502, 2251.251]\n",
       "79997         (2.01, 753.754]\n",
       "79998         (2.01, 753.754]\n",
       "79999         (2.01, 753.754]\n",
       "Name: amount, Length: 80000, dtype: category\n",
       "Categories (4, interval[float64, right]): [(2.01, 753.754] < (753.754, 1502.502] < (1502.502, 2251.251] < (2251.251, 3000.0]]"
      ]
     },
     "execution_count": 16,
     "metadata": {},
     "output_type": "execute_result"
    }
   ],
   "source": [
    "df= pd.read_csv(\"Demographic_Data.csv\")\n",
    "pd.cut(df['amount'], bins = 4)"
   ]
  },
  {
   "cell_type": "code",
   "execution_count": 17,
   "id": "62ed680d",
   "metadata": {},
   "outputs": [
    {
     "data": {
      "text/plain": [
       "(2.01, 753.754]         46599\n",
       "(753.754, 1502.502]     18046\n",
       "(1502.502, 2251.251]    10321\n",
       "(2251.251, 3000.0]       5034\n",
       "Name: amount, dtype: int64"
      ]
     },
     "execution_count": 17,
     "metadata": {},
     "output_type": "execute_result"
    }
   ],
   "source": [
    "pd.cut(df ['amount'], bins = 4). value_counts()"
   ]
  },
  {
   "cell_type": "code",
   "execution_count": 18,
   "id": "9bee7698",
   "metadata": {},
   "outputs": [
    {
     "data": {
      "text/html": [
       "<div>\n",
       "<style scoped>\n",
       "    .dataframe tbody tr th:only-of-type {\n",
       "        vertical-align: middle;\n",
       "    }\n",
       "\n",
       "    .dataframe tbody tr th {\n",
       "        vertical-align: top;\n",
       "    }\n",
       "\n",
       "    .dataframe thead th {\n",
       "        text-align: right;\n",
       "    }\n",
       "</style>\n",
       "<table border=\"1\" class=\"dataframe\">\n",
       "  <thead>\n",
       "    <tr style=\"text-align: right;\">\n",
       "      <th></th>\n",
       "      <th>in-store</th>\n",
       "      <th>age</th>\n",
       "      <th>items</th>\n",
       "      <th>amount</th>\n",
       "      <th>region</th>\n",
       "      <th>amtBin</th>\n",
       "    </tr>\n",
       "  </thead>\n",
       "  <tbody>\n",
       "    <tr>\n",
       "      <th>0</th>\n",
       "      <td>0</td>\n",
       "      <td>37</td>\n",
       "      <td>4</td>\n",
       "      <td>281.03</td>\n",
       "      <td>2</td>\n",
       "      <td>$0-700</td>\n",
       "    </tr>\n",
       "    <tr>\n",
       "      <th>1</th>\n",
       "      <td>0</td>\n",
       "      <td>35</td>\n",
       "      <td>2</td>\n",
       "      <td>219.51</td>\n",
       "      <td>2</td>\n",
       "      <td>$0-700</td>\n",
       "    </tr>\n",
       "    <tr>\n",
       "      <th>2</th>\n",
       "      <td>1</td>\n",
       "      <td>45</td>\n",
       "      <td>3</td>\n",
       "      <td>1525.70</td>\n",
       "      <td>4</td>\n",
       "      <td>$1401-2100</td>\n",
       "    </tr>\n",
       "    <tr>\n",
       "      <th>3</th>\n",
       "      <td>1</td>\n",
       "      <td>46</td>\n",
       "      <td>3</td>\n",
       "      <td>715.25</td>\n",
       "      <td>3</td>\n",
       "      <td>$701-1400</td>\n",
       "    </tr>\n",
       "    <tr>\n",
       "      <th>4</th>\n",
       "      <td>1</td>\n",
       "      <td>33</td>\n",
       "      <td>4</td>\n",
       "      <td>1937.50</td>\n",
       "      <td>1</td>\n",
       "      <td>$1401-2100</td>\n",
       "    </tr>\n",
       "  </tbody>\n",
       "</table>\n",
       "</div>"
      ],
      "text/plain": [
       "   in-store  age  items   amount  region      amtBin\n",
       "0         0   37      4   281.03       2      $0-700\n",
       "1         0   35      2   219.51       2      $0-700\n",
       "2         1   45      3  1525.70       4  $1401-2100\n",
       "3         1   46      3   715.25       3   $701-1400\n",
       "4         1   33      4  1937.50       1  $1401-2100"
      ]
     },
     "execution_count": 18,
     "metadata": {},
     "output_type": "execute_result"
    }
   ],
   "source": [
    "amtBin = ['$0-700', '$701-1400', '$1401-2100', '$2101-3000']\n",
    "cut_bins = [2, 700, 1503, 2252, 3000]\n",
    "df ['amtBin'] = pd.cut(df ['amount'], bins = cut_bins, labels = amtBin)\n",
    "df.head()"
   ]
  },
  {
   "cell_type": "code",
   "execution_count": 19,
   "id": "3a47f6f7",
   "metadata": {},
   "outputs": [
    {
     "data": {
      "text/plain": [
       "(34.75, 51.5]      29723\n",
       "(17.933, 34.75]    22454\n",
       "(51.5, 68.25]      19848\n",
       "(68.25, 85.0]       7975\n",
       "Name: age, dtype: int64"
      ]
     },
     "execution_count": 19,
     "metadata": {},
     "output_type": "execute_result"
    }
   ],
   "source": [
    "pd.cut(df['age'], bins = 4)\n",
    "pd.cut(df ['age'], bins = 4). value_counts()"
   ]
  },
  {
   "cell_type": "code",
   "execution_count": 20,
   "id": "ad30c32b",
   "metadata": {},
   "outputs": [
    {
     "data": {
      "text/html": [
       "<div>\n",
       "<style scoped>\n",
       "    .dataframe tbody tr th:only-of-type {\n",
       "        vertical-align: middle;\n",
       "    }\n",
       "\n",
       "    .dataframe tbody tr th {\n",
       "        vertical-align: top;\n",
       "    }\n",
       "\n",
       "    .dataframe thead th {\n",
       "        text-align: right;\n",
       "    }\n",
       "</style>\n",
       "<table border=\"1\" class=\"dataframe\">\n",
       "  <thead>\n",
       "    <tr style=\"text-align: right;\">\n",
       "      <th></th>\n",
       "      <th>in-store</th>\n",
       "      <th>age</th>\n",
       "      <th>items</th>\n",
       "      <th>amount</th>\n",
       "      <th>region</th>\n",
       "      <th>amtBin</th>\n",
       "      <th>ageBin</th>\n",
       "    </tr>\n",
       "  </thead>\n",
       "  <tbody>\n",
       "    <tr>\n",
       "      <th>0</th>\n",
       "      <td>0</td>\n",
       "      <td>37</td>\n",
       "      <td>4</td>\n",
       "      <td>281.03</td>\n",
       "      <td>2</td>\n",
       "      <td>$0-700</td>\n",
       "      <td>38-56</td>\n",
       "    </tr>\n",
       "    <tr>\n",
       "      <th>1</th>\n",
       "      <td>0</td>\n",
       "      <td>35</td>\n",
       "      <td>2</td>\n",
       "      <td>219.51</td>\n",
       "      <td>2</td>\n",
       "      <td>$0-700</td>\n",
       "      <td>38-56</td>\n",
       "    </tr>\n",
       "    <tr>\n",
       "      <th>2</th>\n",
       "      <td>1</td>\n",
       "      <td>45</td>\n",
       "      <td>3</td>\n",
       "      <td>1525.70</td>\n",
       "      <td>4</td>\n",
       "      <td>$1401-2100</td>\n",
       "      <td>38-56</td>\n",
       "    </tr>\n",
       "    <tr>\n",
       "      <th>3</th>\n",
       "      <td>1</td>\n",
       "      <td>46</td>\n",
       "      <td>3</td>\n",
       "      <td>715.25</td>\n",
       "      <td>3</td>\n",
       "      <td>$701-1400</td>\n",
       "      <td>38-56</td>\n",
       "    </tr>\n",
       "    <tr>\n",
       "      <th>4</th>\n",
       "      <td>1</td>\n",
       "      <td>33</td>\n",
       "      <td>4</td>\n",
       "      <td>1937.50</td>\n",
       "      <td>1</td>\n",
       "      <td>$1401-2100</td>\n",
       "      <td>19-37</td>\n",
       "    </tr>\n",
       "  </tbody>\n",
       "</table>\n",
       "</div>"
      ],
      "text/plain": [
       "   in-store  age  items   amount  region      amtBin ageBin\n",
       "0         0   37      4   281.03       2      $0-700  38-56\n",
       "1         0   35      2   219.51       2      $0-700  38-56\n",
       "2         1   45      3  1525.70       4  $1401-2100  38-56\n",
       "3         1   46      3   715.25       3   $701-1400  38-56\n",
       "4         1   33      4  1937.50       1  $1401-2100  19-37"
      ]
     },
     "execution_count": 20,
     "metadata": {},
     "output_type": "execute_result"
    }
   ],
   "source": [
    "ageBin = ['0-18', '19-37', '38-56', '57-75', '75-93']\n",
    "cut_bins = [0, 17, 34, 51, 68, 85]\n",
    "df ['ageBin'] = pd.cut(df ['age'], bins = cut_bins, labels = ageBin)\n",
    "df.head()"
   ]
  },
  {
   "cell_type": "markdown",
   "id": "eaf99693",
   "metadata": {},
   "source": [
    "# Analyze Data"
   ]
  },
  {
   "cell_type": "markdown",
   "id": "52c5c349",
   "metadata": {},
   "source": [
    "### Statistical Analysis"
   ]
  },
  {
   "cell_type": "code",
   "execution_count": 21,
   "id": "a198f4e4",
   "metadata": {
    "scrolled": true
   },
   "outputs": [
    {
     "data": {
      "text/html": [
       "<div>\n",
       "<style scoped>\n",
       "    .dataframe tbody tr th:only-of-type {\n",
       "        vertical-align: middle;\n",
       "    }\n",
       "\n",
       "    .dataframe tbody tr th {\n",
       "        vertical-align: top;\n",
       "    }\n",
       "\n",
       "    .dataframe thead th {\n",
       "        text-align: right;\n",
       "    }\n",
       "</style>\n",
       "<table border=\"1\" class=\"dataframe\">\n",
       "  <thead>\n",
       "    <tr style=\"text-align: right;\">\n",
       "      <th></th>\n",
       "      <th>in-store</th>\n",
       "      <th>age</th>\n",
       "      <th>items</th>\n",
       "      <th>amount</th>\n",
       "      <th>region</th>\n",
       "    </tr>\n",
       "  </thead>\n",
       "  <tbody>\n",
       "    <tr>\n",
       "      <th>count</th>\n",
       "      <td>79979.000000</td>\n",
       "      <td>79979.000000</td>\n",
       "      <td>79979.000000</td>\n",
       "      <td>79979.000000</td>\n",
       "      <td>79979.000000</td>\n",
       "    </tr>\n",
       "    <tr>\n",
       "      <th>mean</th>\n",
       "      <td>0.500006</td>\n",
       "      <td>45.758512</td>\n",
       "      <td>4.505133</td>\n",
       "      <td>835.825727</td>\n",
       "      <td>2.674915</td>\n",
       "    </tr>\n",
       "    <tr>\n",
       "      <th>std</th>\n",
       "      <td>0.500003</td>\n",
       "      <td>15.715158</td>\n",
       "      <td>2.061250</td>\n",
       "      <td>721.263650</td>\n",
       "      <td>1.126642</td>\n",
       "    </tr>\n",
       "    <tr>\n",
       "      <th>min</th>\n",
       "      <td>0.000000</td>\n",
       "      <td>18.000000</td>\n",
       "      <td>1.000000</td>\n",
       "      <td>5.004700</td>\n",
       "      <td>1.000000</td>\n",
       "    </tr>\n",
       "    <tr>\n",
       "      <th>25%</th>\n",
       "      <td>0.000000</td>\n",
       "      <td>33.000000</td>\n",
       "      <td>3.000000</td>\n",
       "      <td>285.120000</td>\n",
       "      <td>2.000000</td>\n",
       "    </tr>\n",
       "    <tr>\n",
       "      <th>50%</th>\n",
       "      <td>1.000000</td>\n",
       "      <td>45.000000</td>\n",
       "      <td>4.000000</td>\n",
       "      <td>582.140000</td>\n",
       "      <td>3.000000</td>\n",
       "    </tr>\n",
       "    <tr>\n",
       "      <th>75%</th>\n",
       "      <td>1.000000</td>\n",
       "      <td>56.000000</td>\n",
       "      <td>6.000000</td>\n",
       "      <td>1233.400000</td>\n",
       "      <td>4.000000</td>\n",
       "    </tr>\n",
       "    <tr>\n",
       "      <th>max</th>\n",
       "      <td>1.000000</td>\n",
       "      <td>85.000000</td>\n",
       "      <td>8.000000</td>\n",
       "      <td>3000.000000</td>\n",
       "      <td>4.000000</td>\n",
       "    </tr>\n",
       "  </tbody>\n",
       "</table>\n",
       "</div>"
      ],
      "text/plain": [
       "           in-store           age         items        amount        region\n",
       "count  79979.000000  79979.000000  79979.000000  79979.000000  79979.000000\n",
       "mean       0.500006     45.758512      4.505133    835.825727      2.674915\n",
       "std        0.500003     15.715158      2.061250    721.263650      1.126642\n",
       "min        0.000000     18.000000      1.000000      5.004700      1.000000\n",
       "25%        0.000000     33.000000      3.000000    285.120000      2.000000\n",
       "50%        1.000000     45.000000      4.000000    582.140000      3.000000\n",
       "75%        1.000000     56.000000      6.000000   1233.400000      4.000000\n",
       "max        1.000000     85.000000      8.000000   3000.000000      4.000000"
      ]
     },
     "execution_count": 21,
     "metadata": {},
     "output_type": "execute_result"
    }
   ],
   "source": [
    "# output statistics\n",
    "data.describe()"
   ]
  },
  {
   "cell_type": "markdown",
   "id": "326b6aae",
   "metadata": {},
   "source": [
    "### Visualizations"
   ]
  },
  {
   "cell_type": "code",
   "execution_count": 22,
   "id": "c69a2bb4",
   "metadata": {},
   "outputs": [
    {
     "name": "stdout",
     "output_type": "stream",
     "text": [
      "Index(['in-store', 'age', 'items', 'amount', 'region'], dtype='object')\n"
     ]
    }
   ],
   "source": [
    "header = data.dtypes.index\n",
    "print(header)"
   ]
  },
  {
   "cell_type": "markdown",
   "id": "89e343c0",
   "metadata": {},
   "source": [
    "#### Histogram"
   ]
  },
  {
   "cell_type": "code",
   "execution_count": 23,
   "id": "c3a4ad9b",
   "metadata": {},
   "outputs": [
    {
     "data": {
      "image/png": "[encoded data removed]",
      "text/plain": [
       "<Figure size 432x288 with 1 Axes>"
      ]
     },
     "metadata": {
      "needs_background": "light"
     },
     "output_type": "display_data"
    }
   ],
   "source": [
    "plt.hist(data['in-store'])\n",
    "plt.show()"
   ]
  },
  {
   "cell_type": "code",
   "execution_count": 24,
   "id": "892baa1c",
   "metadata": {},
   "outputs": [
    {
     "data": {
      "image/png": "[encoded data removed]",
      "text/plain": [
       "<Figure size 432x288 with 6 Axes>"
      ]
     },
     "metadata": {
      "needs_background": "light"
     },
     "output_type": "display_data"
    }
   ],
   "source": [
    "data.hist()\n",
    "plt.show()"
   ]
  },
  {
   "cell_type": "markdown",
   "id": "7e3c7ee9",
   "metadata": {},
   "source": [
    "#### Scatter"
   ]
  },
  {
   "cell_type": "code",
   "execution_count": 25,
   "id": "f506f4e3",
   "metadata": {},
   "outputs": [
    {
     "data": {
      "image/png": "[encoded data removed]",
      "text/plain": [
       "<Figure size 432x288 with 1 Axes>"
      ]
     },
     "metadata": {
      "needs_background": "light"
     },
     "output_type": "display_data"
    }
   ],
   "source": [
    "# Scatter plot example\n",
    "data_sample = data\n",
    "x = data_sample['age']\n",
    "y = data_sample['amount']\n",
    "plt.scatter(x,y, marker='o')\n",
    "# assignment: add axis titles\n",
    "plt.ylabel('amount')\n",
    "plt.xlabel('age')\n",
    "plt.show()"
   ]
  },
  {
   "cell_type": "code",
   "execution_count": 26,
   "id": "f40b56ae",
   "metadata": {},
   "outputs": [
    {
     "name": "stdout",
     "output_type": "stream",
     "text": [
      "Index(['in-store', 'age', 'items', 'amount', 'region'], dtype='object')\n"
     ]
    },
    {
     "data": {
      "image/png": "[encoded data removed]",
      "text/plain": [
       "<Figure size 432x288 with 1 Axes>"
      ]
     },
     "metadata": {
      "needs_background": "light"
     },
     "output_type": "display_data"
    }
   ],
   "source": [
    "# Box plot example\n",
    "# eval col names/features\n",
    "header = data.dtypes.index\n",
    "print(header)\n",
    "# plot\n",
    "A = data['amount']\n",
    "plt.boxplot(A,0,'gD')\n",
    "plt.show()"
   ]
  },
  {
   "cell_type": "markdown",
   "id": "c115a618",
   "metadata": {},
   "source": [
    "#### Stacked Col"
   ]
  },
  {
   "cell_type": "markdown",
   "id": "163de7c1",
   "metadata": {},
   "source": [
    "* 1a) Do customers in different regions spend more per transaction (number of obs per spend category)?\n",
    "* 1b) Which regions spend the most/least (overall - just from looking at the chart)?"
   ]
  },
  {
   "cell_type": "code",
   "execution_count": 27,
   "id": "9ea6dd37",
   "metadata": {},
   "outputs": [
    {
     "data": {
      "image/png": "[encoded data removed]",
      "text/plain": [
       "<Figure size 432x288 with 1 Axes>"
      ]
     },
     "metadata": {
      "needs_background": "light"
     },
     "output_type": "display_data"
    }
   ],
   "source": [
    "np.random.seed(1)\n",
    "df.groupby('region')['amtBin']\\\n",
    "    .value_counts()\\\n",
    "    .unstack(level=1)\\\n",
    "    .plot.bar(stacked=True)\n",
    "plt.ylabel('amount')\n",
    "plt.xlabel('region')\n",
    "plt.show()"
   ]
  },
  {
   "cell_type": "markdown",
   "id": "44f81716",
   "metadata": {},
   "source": [
    "#### Other visualizations from Titanic tutorial"
   ]
  },
  {
   "cell_type": "code",
   "execution_count": 28,
   "id": "69fbd2ff",
   "metadata": {},
   "outputs": [
    {
     "data": {
      "text/plain": [
       "<seaborn.axisgrid.FacetGrid at 0x21ea24e2cd0>"
      ]
     },
     "execution_count": 28,
     "metadata": {},
     "output_type": "execute_result"
    },
    {
     "data": {
      "image/png": "[encoded data removed]",
      "text/plain": [
       "<Figure size 360x360 with 1 Axes>"
      ]
     },
     "metadata": {
      "needs_background": "light"
     },
     "output_type": "display_data"
    }
   ],
   "source": [
    "# in-store purchases\n",
    "demographic_df=pd.read_csv(\"Demographic_Data.csv\")\n",
    "sns.catplot(x='in-store', data=demographic_df, kind='count', aspect=1.0)"
   ]
  },
  {
   "cell_type": "code",
   "execution_count": 29,
   "id": "5949a505",
   "metadata": {},
   "outputs": [
    {
     "data": {
      "text/plain": [
       "in-store  region\n",
       "0         2         20000\n",
       "          3          7001\n",
       "          4         12999\n",
       "1         1         16000\n",
       "          3         10999\n",
       "          4         13001\n",
       "Name: in-store, dtype: int64"
      ]
     },
     "execution_count": 29,
     "metadata": {},
     "output_type": "execute_result"
    }
   ],
   "source": [
    "# in-store purchase per region\n",
    "demographic_df.groupby(['in-store', 'region'])['in-store'].count()"
   ]
  },
  {
   "cell_type": "code",
   "execution_count": 30,
   "id": "b86f55c0",
   "metadata": {},
   "outputs": [
    {
     "data": {
      "text/html": [
       "<div>\n",
       "<style scoped>\n",
       "    .dataframe tbody tr th:only-of-type {\n",
       "        vertical-align: middle;\n",
       "    }\n",
       "\n",
       "    .dataframe tbody tr th {\n",
       "        vertical-align: top;\n",
       "    }\n",
       "\n",
       "    .dataframe thead th {\n",
       "        text-align: right;\n",
       "    }\n",
       "</style>\n",
       "<table border=\"1\" class=\"dataframe\">\n",
       "  <thead>\n",
       "    <tr style=\"text-align: right;\">\n",
       "      <th></th>\n",
       "      <th>in-store</th>\n",
       "      <th>age</th>\n",
       "      <th>items</th>\n",
       "      <th>amount</th>\n",
       "    </tr>\n",
       "    <tr>\n",
       "      <th>region</th>\n",
       "      <th></th>\n",
       "      <th></th>\n",
       "      <th></th>\n",
       "      <th></th>\n",
       "    </tr>\n",
       "  </thead>\n",
       "  <tbody>\n",
       "    <tr>\n",
       "      <th>1</th>\n",
       "      <td>1.000000</td>\n",
       "      <td>43.703938</td>\n",
       "      <td>4.510063</td>\n",
       "      <td>745.161491</td>\n",
       "    </tr>\n",
       "    <tr>\n",
       "      <th>2</th>\n",
       "      <td>0.000000</td>\n",
       "      <td>56.610350</td>\n",
       "      <td>4.512750</td>\n",
       "      <td>252.109196</td>\n",
       "    </tr>\n",
       "    <tr>\n",
       "      <th>3</th>\n",
       "      <td>0.611056</td>\n",
       "      <td>45.646944</td>\n",
       "      <td>4.494000</td>\n",
       "      <td>917.969637</td>\n",
       "    </tr>\n",
       "    <tr>\n",
       "      <th>4</th>\n",
       "      <td>0.500038</td>\n",
       "      <td>38.750731</td>\n",
       "      <td>4.503462</td>\n",
       "      <td>1284.052012</td>\n",
       "    </tr>\n",
       "  </tbody>\n",
       "</table>\n",
       "</div>"
      ],
      "text/plain": [
       "        in-store        age     items       amount\n",
       "region                                            \n",
       "1       1.000000  43.703938  4.510063   745.161491\n",
       "2       0.000000  56.610350  4.512750   252.109196\n",
       "3       0.611056  45.646944  4.494000   917.969637\n",
       "4       0.500038  38.750731  4.503462  1284.052012"
      ]
     },
     "execution_count": 30,
     "metadata": {},
     "output_type": "execute_result"
    }
   ],
   "source": [
    "# in-store mean of purchase per region\n",
    "df.groupby(['region']).mean()"
   ]
  },
  {
   "cell_type": "code",
   "execution_count": 31,
   "id": "2ad8a994",
   "metadata": {},
   "outputs": [
    {
     "data": {
      "text/plain": [
       "<seaborn.axisgrid.FacetGrid at 0x21ea33480d0>"
      ]
     },
     "execution_count": 31,
     "metadata": {},
     "output_type": "execute_result"
    },
    {
     "data": {
      "image/png": "[encoded data removed]",
      "text/plain": [
       "<Figure size 672.375x360 with 1 Axes>"
      ]
     },
     "metadata": {
      "needs_background": "light"
     },
     "output_type": "display_data"
    }
   ],
   "source": [
    "# in-store purchases per region\n",
    "g = sns.catplot(x='in-store', data=demographic_df, hue='region', kind='count', aspect=1.75)\n",
    "g.set_xlabels('in-store')"
   ]
  },
  {
   "cell_type": "code",
   "execution_count": 32,
   "id": "1560fbfe",
   "metadata": {},
   "outputs": [
    {
     "data": {
      "text/html": [
       "<div>\n",
       "<style scoped>\n",
       "    .dataframe tbody tr th:only-of-type {\n",
       "        vertical-align: middle;\n",
       "    }\n",
       "\n",
       "    .dataframe tbody tr th {\n",
       "        vertical-align: top;\n",
       "    }\n",
       "\n",
       "    .dataframe thead th {\n",
       "        text-align: right;\n",
       "    }\n",
       "</style>\n",
       "<table border=\"1\" class=\"dataframe\">\n",
       "  <thead>\n",
       "    <tr style=\"text-align: right;\">\n",
       "      <th>region</th>\n",
       "      <th>1</th>\n",
       "      <th>2</th>\n",
       "      <th>3</th>\n",
       "      <th>4</th>\n",
       "      <th>All</th>\n",
       "    </tr>\n",
       "    <tr>\n",
       "      <th>items</th>\n",
       "      <th></th>\n",
       "      <th></th>\n",
       "      <th></th>\n",
       "      <th></th>\n",
       "      <th></th>\n",
       "    </tr>\n",
       "  </thead>\n",
       "  <tbody>\n",
       "    <tr>\n",
       "      <th>1</th>\n",
       "      <td>43.303797</td>\n",
       "      <td>56.934858</td>\n",
       "      <td>46.388889</td>\n",
       "      <td>38.885307</td>\n",
       "      <td>45.969479</td>\n",
       "    </tr>\n",
       "    <tr>\n",
       "      <th>2</th>\n",
       "      <td>43.448245</td>\n",
       "      <td>56.521032</td>\n",
       "      <td>45.714286</td>\n",
       "      <td>38.766039</td>\n",
       "      <td>45.721878</td>\n",
       "    </tr>\n",
       "    <tr>\n",
       "      <th>3</th>\n",
       "      <td>44.059560</td>\n",
       "      <td>56.023563</td>\n",
       "      <td>45.382070</td>\n",
       "      <td>38.885146</td>\n",
       "      <td>45.577871</td>\n",
       "    </tr>\n",
       "    <tr>\n",
       "      <th>4</th>\n",
       "      <td>43.686192</td>\n",
       "      <td>56.548064</td>\n",
       "      <td>45.312897</td>\n",
       "      <td>38.725474</td>\n",
       "      <td>45.712401</td>\n",
       "    </tr>\n",
       "    <tr>\n",
       "      <th>5</th>\n",
       "      <td>43.815707</td>\n",
       "      <td>56.963954</td>\n",
       "      <td>45.360923</td>\n",
       "      <td>38.705052</td>\n",
       "      <td>45.765083</td>\n",
       "    </tr>\n",
       "    <tr>\n",
       "      <th>6</th>\n",
       "      <td>43.456743</td>\n",
       "      <td>57.196750</td>\n",
       "      <td>45.728429</td>\n",
       "      <td>38.917221</td>\n",
       "      <td>45.921107</td>\n",
       "    </tr>\n",
       "    <tr>\n",
       "      <th>7</th>\n",
       "      <td>43.993122</td>\n",
       "      <td>56.293430</td>\n",
       "      <td>46.008567</td>\n",
       "      <td>38.576572</td>\n",
       "      <td>45.818773</td>\n",
       "    </tr>\n",
       "    <tr>\n",
       "      <th>8</th>\n",
       "      <td>43.645570</td>\n",
       "      <td>56.500697</td>\n",
       "      <td>45.692427</td>\n",
       "      <td>38.465600</td>\n",
       "      <td>45.610055</td>\n",
       "    </tr>\n",
       "    <tr>\n",
       "      <th>All</th>\n",
       "      <td>43.703938</td>\n",
       "      <td>56.610350</td>\n",
       "      <td>45.646944</td>\n",
       "      <td>38.750731</td>\n",
       "      <td>45.757925</td>\n",
       "    </tr>\n",
       "  </tbody>\n",
       "</table>\n",
       "</div>"
      ],
      "text/plain": [
       "region          1          2          3          4        All\n",
       "items                                                        \n",
       "1       43.303797  56.934858  46.388889  38.885307  45.969479\n",
       "2       43.448245  56.521032  45.714286  38.766039  45.721878\n",
       "3       44.059560  56.023563  45.382070  38.885146  45.577871\n",
       "4       43.686192  56.548064  45.312897  38.725474  45.712401\n",
       "5       43.815707  56.963954  45.360923  38.705052  45.765083\n",
       "6       43.456743  57.196750  45.728429  38.917221  45.921107\n",
       "7       43.993122  56.293430  46.008567  38.576572  45.818773\n",
       "8       43.645570  56.500697  45.692427  38.465600  45.610055\n",
       "All     43.703938  56.610350  45.646944  38.750731  45.757925"
      ]
     },
     "execution_count": 32,
     "metadata": {},
     "output_type": "execute_result"
    }
   ],
   "source": [
    "demographic_df.pivot_table('age', 'items', 'region', aggfunc=np.mean, margins=True)"
   ]
  },
  {
   "cell_type": "markdown",
   "id": "2a992f2b",
   "metadata": {},
   "source": [
    "# Feature Selection\n",
    "For this task, you will not be selecting features. Instead, focus on answering the following question (pay particular attention to correlation analysis):\n",
    "\n",
    "* 2) Is there a relationship between the number of items purchased and amount spent?\n",
    "* 4a) Is there any correlation between age of a customer and if the transaction was made online or in the store?"
   ]
  },
  {
   "cell_type": "markdown",
   "id": "b8d9d31e",
   "metadata": {},
   "source": [
    "### Correlation"
   ]
  },
  {
   "cell_type": "code",
   "execution_count": 33,
   "id": "70982f74",
   "metadata": {},
   "outputs": [
    {
     "name": "stdout",
     "output_type": "stream",
     "text": [
      "          in-store       age     items    amount    region\n",
      "in-store  1.000000 -0.178180 -0.003897 -0.085573 -0.133171\n",
      "age      -0.178180  1.000000  0.000657 -0.282033 -0.235370\n",
      "items    -0.003897  0.000657  1.000000  0.000384 -0.001904\n",
      "amount   -0.085573 -0.282033  0.000384  1.000000  0.403486\n",
      "region   -0.133171 -0.235370 -0.001904  0.403486  1.000000\n"
     ]
    }
   ],
   "source": [
    "corr_mat = data.corr()\n",
    "print(corr_mat)"
   ]
  },
  {
   "cell_type": "code",
   "execution_count": 34,
   "id": "054c1239",
   "metadata": {},
   "outputs": [
    {
     "data": {
      "image/png": "[encoded data removed]",
      "text/plain": [
       "<Figure size 720x720 with 2 Axes>"
      ]
     },
     "metadata": {
      "needs_background": "light"
     },
     "output_type": "display_data"
    }
   ],
   "source": [
    "# plot heatmap\n",
    "fig, ax = plt.subplots(figsize=(10,10))\n",
    "sns.heatmap(corr_mat, vmax=1.0, center=0, fmt='.2f',\n",
    "square=True, linewidths=.5, annot=True, cbar_kws={\"shrink\": .70})\n",
    "plt.show();"
   ]
  },
  {
   "cell_type": "markdown",
   "id": "af4d8d7d",
   "metadata": {},
   "source": [
    "### Covariance"
   ]
  },
  {
   "cell_type": "code",
   "execution_count": 35,
   "id": "a9974f7d",
   "metadata": {},
   "outputs": [
    {
     "name": "stdout",
     "output_type": "stream",
     "text": [
      "           in-store          age     items         amount      region\n",
      "in-store   0.250003    -1.400071 -0.004017     -30.860425   -0.075019\n",
      "age       -1.400071   246.966189  0.021270   -3196.782841   -4.167305\n",
      "items     -0.004017     0.021270  4.248751       0.570791   -0.004421\n",
      "amount   -30.860425 -3196.782841  0.570791  520221.252295  327.874873\n",
      "region    -0.075019    -4.167305 -0.004421     327.874873    1.269321\n"
     ]
    }
   ],
   "source": [
    "cov_mat = data.cov()\n",
    "print(cov_mat)"
   ]
  },
  {
   "cell_type": "markdown",
   "id": "2bc87d57",
   "metadata": {},
   "source": [
    "# Train/Test Sets"
   ]
  },
  {
   "cell_type": "markdown",
   "id": "67a7ee2c",
   "metadata": {},
   "source": [
    "* The modeling (predicitive analytics) process begins with splitting data in to train and test sets.\n",
    "* Focus on buiding models to answer the following questions:\n",
    "* 3a) Are there differences in the age of customers between regions?\n",
    "* 3b) If so, can we predict the age of a customer in a region based on other demographic data? (Decision tree.)\n",
    "* 4a) Is there any correlation between age of a customer and if the transaction was made online or in the store? (In addition to correlation analysis, a decision tree can also provide insight.)\n",
    "* 4b) Do any other factors predict if a customer will buy online or in our stores? (Decison tree.)"
   ]
  },
  {
   "cell_type": "markdown",
   "id": "60c6e5e9",
   "metadata": {},
   "source": [
    "### 3a) Are there differences in the age of customers between regions?"
   ]
  },
  {
   "cell_type": "code",
   "execution_count": 36,
   "id": "773257e0",
   "metadata": {},
   "outputs": [
    {
     "data": {
      "image/png": "[encoded data removed]",
      "text/plain": [
       "<Figure size 432x288 with 1 Axes>"
      ]
     },
     "metadata": {
      "needs_background": "light"
     },
     "output_type": "display_data"
    }
   ],
   "source": [
    "# Scatter plot example\n",
    "data_sample = data\n",
    "x = data_sample['age']\n",
    "y = data_sample['region']\n",
    "plt.scatter(x,y, marker='o')\n",
    "# assignment: add axis titles\n",
    "plt.ylabel('region')\n",
    "plt.xlabel('age')\n",
    "plt.show()"
   ]
  },
  {
   "cell_type": "code",
   "execution_count": 37,
   "id": "16de1bd0",
   "metadata": {},
   "outputs": [
    {
     "data": {
      "text/html": [
       "<div>\n",
       "<style scoped>\n",
       "    .dataframe tbody tr th:only-of-type {\n",
       "        vertical-align: middle;\n",
       "    }\n",
       "\n",
       "    .dataframe tbody tr th {\n",
       "        vertical-align: top;\n",
       "    }\n",
       "\n",
       "    .dataframe thead th {\n",
       "        text-align: right;\n",
       "    }\n",
       "</style>\n",
       "<table border=\"1\" class=\"dataframe\">\n",
       "  <thead>\n",
       "    <tr style=\"text-align: right;\">\n",
       "      <th></th>\n",
       "      <th>in-store</th>\n",
       "      <th>age</th>\n",
       "      <th>items</th>\n",
       "      <th>amount</th>\n",
       "    </tr>\n",
       "    <tr>\n",
       "      <th>region</th>\n",
       "      <th></th>\n",
       "      <th></th>\n",
       "      <th></th>\n",
       "      <th></th>\n",
       "    </tr>\n",
       "  </thead>\n",
       "  <tbody>\n",
       "    <tr>\n",
       "      <th>1</th>\n",
       "      <td>1.000000</td>\n",
       "      <td>43.703938</td>\n",
       "      <td>4.510063</td>\n",
       "      <td>745.161491</td>\n",
       "    </tr>\n",
       "    <tr>\n",
       "      <th>2</th>\n",
       "      <td>0.000000</td>\n",
       "      <td>56.610350</td>\n",
       "      <td>4.512750</td>\n",
       "      <td>252.109196</td>\n",
       "    </tr>\n",
       "    <tr>\n",
       "      <th>3</th>\n",
       "      <td>0.611056</td>\n",
       "      <td>45.646944</td>\n",
       "      <td>4.494000</td>\n",
       "      <td>917.969637</td>\n",
       "    </tr>\n",
       "    <tr>\n",
       "      <th>4</th>\n",
       "      <td>0.500038</td>\n",
       "      <td>38.750731</td>\n",
       "      <td>4.503462</td>\n",
       "      <td>1284.052012</td>\n",
       "    </tr>\n",
       "  </tbody>\n",
       "</table>\n",
       "</div>"
      ],
      "text/plain": [
       "        in-store        age     items       amount\n",
       "region                                            \n",
       "1       1.000000  43.703938  4.510063   745.161491\n",
       "2       0.000000  56.610350  4.512750   252.109196\n",
       "3       0.611056  45.646944  4.494000   917.969637\n",
       "4       0.500038  38.750731  4.503462  1284.052012"
      ]
     },
     "execution_count": 37,
     "metadata": {},
     "output_type": "execute_result"
    }
   ],
   "source": [
    "df.groupby(['region']).mean()"
   ]
  },
  {
   "cell_type": "code",
   "execution_count": 87,
   "id": "1b042fa3",
   "metadata": {},
   "outputs": [
    {
     "data": {
      "image/png": "[encoded data removed]",
      "text/plain": [
       "<Figure size 432x288 with 1 Axes>"
      ]
     },
     "metadata": {
      "needs_background": "light"
     },
     "output_type": "display_data"
    }
   ],
   "source": [
    "demographic_df=pd.read_csv(\"Demographic_Data.csv\")\n",
    "columns=['region', 'in-store', 'age', 'items', 'amount']\n",
    "ax1 = df.plot.scatter(x='amount',\n",
    "                      y='in-store',\n",
    "                      c='DarkBlue')"
   ]
  },
  {
   "cell_type": "code",
   "execution_count": 38,
   "id": "ace299d1",
   "metadata": {},
   "outputs": [
    {
     "data": {
      "image/png": "[encoded data removed]",
      "text/plain": [
       "<Figure size 432x288 with 1 Axes>"
      ]
     },
     "metadata": {
      "needs_background": "light"
     },
     "output_type": "display_data"
    }
   ],
   "source": [
    "np.random.seed(1)\n",
    "df.groupby('region')['ageBin']\\\n",
    "    .value_counts()\\\n",
    "    .unstack(level=1)\\\n",
    "    .plot.bar(stacked=True)\n",
    "plt.ylabel('amtBin')\n",
    "plt.xlabel('region')\n",
    "plt.show()"
   ]
  },
  {
   "cell_type": "code",
   "execution_count": 99,
   "id": "88284e64",
   "metadata": {},
   "outputs": [
    {
     "data": {
      "text/html": [
       "<div>\n",
       "<style scoped>\n",
       "    .dataframe tbody tr th:only-of-type {\n",
       "        vertical-align: middle;\n",
       "    }\n",
       "\n",
       "    .dataframe tbody tr th {\n",
       "        vertical-align: top;\n",
       "    }\n",
       "\n",
       "    .dataframe thead th {\n",
       "        text-align: right;\n",
       "    }\n",
       "</style>\n",
       "<table border=\"1\" class=\"dataframe\">\n",
       "  <thead>\n",
       "    <tr style=\"text-align: right;\">\n",
       "      <th></th>\n",
       "      <th>age</th>\n",
       "    </tr>\n",
       "    <tr>\n",
       "      <th>region</th>\n",
       "      <th></th>\n",
       "    </tr>\n",
       "  </thead>\n",
       "  <tbody>\n",
       "    <tr>\n",
       "      <th>1</th>\n",
       "      <td>43.703938</td>\n",
       "    </tr>\n",
       "    <tr>\n",
       "      <th>2</th>\n",
       "      <td>56.610350</td>\n",
       "    </tr>\n",
       "    <tr>\n",
       "      <th>3</th>\n",
       "      <td>45.646944</td>\n",
       "    </tr>\n",
       "    <tr>\n",
       "      <th>4</th>\n",
       "      <td>38.750731</td>\n",
       "    </tr>\n",
       "    <tr>\n",
       "      <th>All</th>\n",
       "      <td>45.757925</td>\n",
       "    </tr>\n",
       "  </tbody>\n",
       "</table>\n",
       "</div>"
      ],
      "text/plain": [
       "              age\n",
       "region           \n",
       "1       43.703938\n",
       "2       56.610350\n",
       "3       45.646944\n",
       "4       38.750731\n",
       "All     45.757925"
      ]
     },
     "execution_count": 99,
     "metadata": {},
     "output_type": "execute_result"
    }
   ],
   "source": [
    "demographic_df.pivot_table('age', 'region', aggfunc=np.mean, margins=True)"
   ]
  },
  {
   "cell_type": "code",
   "execution_count": 40,
   "id": "772dd853",
   "metadata": {},
   "outputs": [
    {
     "data": {
      "text/html": [
       "<div>\n",
       "<style scoped>\n",
       "    .dataframe tbody tr th:only-of-type {\n",
       "        vertical-align: middle;\n",
       "    }\n",
       "\n",
       "    .dataframe tbody tr th {\n",
       "        vertical-align: top;\n",
       "    }\n",
       "\n",
       "    .dataframe thead th {\n",
       "        text-align: right;\n",
       "    }\n",
       "</style>\n",
       "<table border=\"1\" class=\"dataframe\">\n",
       "  <thead>\n",
       "    <tr style=\"text-align: right;\">\n",
       "      <th></th>\n",
       "      <th>age</th>\n",
       "    </tr>\n",
       "    <tr>\n",
       "      <th>items</th>\n",
       "      <th></th>\n",
       "    </tr>\n",
       "  </thead>\n",
       "  <tbody>\n",
       "    <tr>\n",
       "      <th>1</th>\n",
       "      <td>45.969479</td>\n",
       "    </tr>\n",
       "    <tr>\n",
       "      <th>2</th>\n",
       "      <td>45.721878</td>\n",
       "    </tr>\n",
       "    <tr>\n",
       "      <th>3</th>\n",
       "      <td>45.577871</td>\n",
       "    </tr>\n",
       "    <tr>\n",
       "      <th>4</th>\n",
       "      <td>45.712401</td>\n",
       "    </tr>\n",
       "    <tr>\n",
       "      <th>5</th>\n",
       "      <td>45.765083</td>\n",
       "    </tr>\n",
       "    <tr>\n",
       "      <th>6</th>\n",
       "      <td>45.921107</td>\n",
       "    </tr>\n",
       "    <tr>\n",
       "      <th>7</th>\n",
       "      <td>45.818773</td>\n",
       "    </tr>\n",
       "    <tr>\n",
       "      <th>8</th>\n",
       "      <td>45.610055</td>\n",
       "    </tr>\n",
       "    <tr>\n",
       "      <th>All</th>\n",
       "      <td>45.757925</td>\n",
       "    </tr>\n",
       "  </tbody>\n",
       "</table>\n",
       "</div>"
      ],
      "text/plain": [
       "             age\n",
       "items           \n",
       "1      45.969479\n",
       "2      45.721878\n",
       "3      45.577871\n",
       "4      45.712401\n",
       "5      45.765083\n",
       "6      45.921107\n",
       "7      45.818773\n",
       "8      45.610055\n",
       "All    45.757925"
      ]
     },
     "execution_count": 40,
     "metadata": {},
     "output_type": "execute_result"
    }
   ],
   "source": [
    "demographic_df.pivot_table('age', 'items', aggfunc=np.mean, margins=True)"
   ]
  },
  {
   "cell_type": "markdown",
   "id": "03eba554",
   "metadata": {},
   "source": [
    "### Set random seed"
   ]
  },
  {
   "cell_type": "code",
   "execution_count": 41,
   "id": "88eeed63",
   "metadata": {},
   "outputs": [],
   "source": [
    "seed = 123"
   ]
  },
  {
   "cell_type": "markdown",
   "id": "656d0381",
   "metadata": {},
   "source": [
    "### Split datasets into X (IVs) and y (DV)"
   ]
  },
  {
   "cell_type": "markdown",
   "id": "66b2fd0e",
   "metadata": {},
   "source": [
    "* For each ds, split into X, y\n",
    "* oob (out-of-box; no feature selection or feature engineering)"
   ]
  },
  {
   "cell_type": "code",
   "execution_count": 42,
   "id": "2f3e6fc5",
   "metadata": {},
   "outputs": [],
   "source": [
    "data.rename(columns={\"in-store\":\"type\"}, inplace = True)"
   ]
  },
  {
   "cell_type": "code",
   "execution_count": 43,
   "id": "5abfff29",
   "metadata": {},
   "outputs": [
    {
     "data": {
      "text/plain": [
       "Index(['type', 'age', 'items', 'amount', 'region'], dtype='object')"
      ]
     },
     "execution_count": 43,
     "metadata": {},
     "output_type": "execute_result"
    }
   ],
   "source": [
    "# pring column names for quick reference\n",
    "data.columns"
   ]
  },
  {
   "cell_type": "code",
   "execution_count": 44,
   "id": "f95d7f94",
   "metadata": {},
   "outputs": [
    {
     "data": {
      "text/html": [
       "<div>\n",
       "<style scoped>\n",
       "    .dataframe tbody tr th:only-of-type {\n",
       "        vertical-align: middle;\n",
       "    }\n",
       "\n",
       "    .dataframe tbody tr th {\n",
       "        vertical-align: top;\n",
       "    }\n",
       "\n",
       "    .dataframe thead th {\n",
       "        text-align: right;\n",
       "    }\n",
       "</style>\n",
       "<table border=\"1\" class=\"dataframe\">\n",
       "  <thead>\n",
       "    <tr style=\"text-align: right;\">\n",
       "      <th></th>\n",
       "      <th>in-store</th>\n",
       "      <th>age</th>\n",
       "      <th>items</th>\n",
       "      <th>amount</th>\n",
       "      <th>region</th>\n",
       "      <th>amtBin</th>\n",
       "      <th>ageBin</th>\n",
       "    </tr>\n",
       "  </thead>\n",
       "  <tbody>\n",
       "    <tr>\n",
       "      <th>0</th>\n",
       "      <td>0</td>\n",
       "      <td>37</td>\n",
       "      <td>4</td>\n",
       "      <td>281.03</td>\n",
       "      <td>2</td>\n",
       "      <td>$0-700</td>\n",
       "      <td>38-56</td>\n",
       "    </tr>\n",
       "    <tr>\n",
       "      <th>1</th>\n",
       "      <td>0</td>\n",
       "      <td>35</td>\n",
       "      <td>2</td>\n",
       "      <td>219.51</td>\n",
       "      <td>2</td>\n",
       "      <td>$0-700</td>\n",
       "      <td>38-56</td>\n",
       "    </tr>\n",
       "    <tr>\n",
       "      <th>2</th>\n",
       "      <td>1</td>\n",
       "      <td>45</td>\n",
       "      <td>3</td>\n",
       "      <td>1525.70</td>\n",
       "      <td>4</td>\n",
       "      <td>$1401-2100</td>\n",
       "      <td>38-56</td>\n",
       "    </tr>\n",
       "    <tr>\n",
       "      <th>3</th>\n",
       "      <td>1</td>\n",
       "      <td>46</td>\n",
       "      <td>3</td>\n",
       "      <td>715.25</td>\n",
       "      <td>3</td>\n",
       "      <td>$701-1400</td>\n",
       "      <td>38-56</td>\n",
       "    </tr>\n",
       "    <tr>\n",
       "      <th>4</th>\n",
       "      <td>1</td>\n",
       "      <td>33</td>\n",
       "      <td>4</td>\n",
       "      <td>1937.50</td>\n",
       "      <td>1</td>\n",
       "      <td>$1401-2100</td>\n",
       "      <td>19-37</td>\n",
       "    </tr>\n",
       "  </tbody>\n",
       "</table>\n",
       "</div>"
      ],
      "text/plain": [
       "   in-store  age  items   amount  region      amtBin ageBin\n",
       "0         0   37      4   281.03       2      $0-700  38-56\n",
       "1         0   35      2   219.51       2      $0-700  38-56\n",
       "2         1   45      3  1525.70       4  $1401-2100  38-56\n",
       "3         1   46      3   715.25       3   $701-1400  38-56\n",
       "4         1   33      4  1937.50       1  $1401-2100  19-37"
      ]
     },
     "execution_count": 44,
     "metadata": {},
     "output_type": "execute_result"
    }
   ],
   "source": [
    "ageBin = ['0-18', '19-37', '38-56', '57-75', '75-93']\n",
    "cut_bins = [0, 17, 34, 51, 68, 85]\n",
    "df ['ageBin'] = pd.cut(df ['age'], bins = cut_bins, labels = ageBin)\n",
    "amtBin = ['$0-700', '$701-1400', '$1401-2100', '$2101-3000']\n",
    "cut_bins = [2, 700, 1503, 2252, 3000]\n",
    "df ['amtBin'] = pd.cut(df ['amount'], bins = cut_bins, labels = amtBin)\n",
    "inplace=True\n",
    "df.head()"
   ]
  },
  {
   "cell_type": "code",
   "execution_count": 45,
   "id": "a667d324",
   "metadata": {},
   "outputs": [
    {
     "data": {
      "text/html": [
       "<div>\n",
       "<style scoped>\n",
       "    .dataframe tbody tr th:only-of-type {\n",
       "        vertical-align: middle;\n",
       "    }\n",
       "\n",
       "    .dataframe tbody tr th {\n",
       "        vertical-align: top;\n",
       "    }\n",
       "\n",
       "    .dataframe thead th {\n",
       "        text-align: right;\n",
       "    }\n",
       "</style>\n",
       "<table border=\"1\" class=\"dataframe\">\n",
       "  <thead>\n",
       "    <tr style=\"text-align: right;\">\n",
       "      <th></th>\n",
       "      <th>type</th>\n",
       "      <th>age</th>\n",
       "      <th>items</th>\n",
       "      <th>amount</th>\n",
       "      <th>region</th>\n",
       "      <th>ageBin</th>\n",
       "      <th>amtBin</th>\n",
       "    </tr>\n",
       "  </thead>\n",
       "  <tbody>\n",
       "    <tr>\n",
       "      <th>0</th>\n",
       "      <td>0</td>\n",
       "      <td>37</td>\n",
       "      <td>4</td>\n",
       "      <td>281.03</td>\n",
       "      <td>2</td>\n",
       "      <td>37</td>\n",
       "      <td>281.03</td>\n",
       "    </tr>\n",
       "    <tr>\n",
       "      <th>1</th>\n",
       "      <td>0</td>\n",
       "      <td>35</td>\n",
       "      <td>2</td>\n",
       "      <td>219.51</td>\n",
       "      <td>2</td>\n",
       "      <td>35</td>\n",
       "      <td>219.51</td>\n",
       "    </tr>\n",
       "    <tr>\n",
       "      <th>2</th>\n",
       "      <td>1</td>\n",
       "      <td>45</td>\n",
       "      <td>3</td>\n",
       "      <td>1525.70</td>\n",
       "      <td>4</td>\n",
       "      <td>45</td>\n",
       "      <td>1525.70</td>\n",
       "    </tr>\n",
       "    <tr>\n",
       "      <th>3</th>\n",
       "      <td>1</td>\n",
       "      <td>46</td>\n",
       "      <td>3</td>\n",
       "      <td>715.25</td>\n",
       "      <td>3</td>\n",
       "      <td>46</td>\n",
       "      <td>715.25</td>\n",
       "    </tr>\n",
       "    <tr>\n",
       "      <th>4</th>\n",
       "      <td>1</td>\n",
       "      <td>33</td>\n",
       "      <td>4</td>\n",
       "      <td>1937.50</td>\n",
       "      <td>1</td>\n",
       "      <td>33</td>\n",
       "      <td>1937.50</td>\n",
       "    </tr>\n",
       "    <tr>\n",
       "      <th>...</th>\n",
       "      <td>...</td>\n",
       "      <td>...</td>\n",
       "      <td>...</td>\n",
       "      <td>...</td>\n",
       "      <td>...</td>\n",
       "      <td>...</td>\n",
       "      <td>...</td>\n",
       "    </tr>\n",
       "    <tr>\n",
       "      <th>79995</th>\n",
       "      <td>1</td>\n",
       "      <td>71</td>\n",
       "      <td>3</td>\n",
       "      <td>558.82</td>\n",
       "      <td>1</td>\n",
       "      <td>71</td>\n",
       "      <td>558.82</td>\n",
       "    </tr>\n",
       "    <tr>\n",
       "      <th>79996</th>\n",
       "      <td>0</td>\n",
       "      <td>59</td>\n",
       "      <td>7</td>\n",
       "      <td>1932.00</td>\n",
       "      <td>3</td>\n",
       "      <td>59</td>\n",
       "      <td>1932.00</td>\n",
       "    </tr>\n",
       "    <tr>\n",
       "      <th>79997</th>\n",
       "      <td>0</td>\n",
       "      <td>54</td>\n",
       "      <td>1</td>\n",
       "      <td>414.16</td>\n",
       "      <td>2</td>\n",
       "      <td>54</td>\n",
       "      <td>414.16</td>\n",
       "    </tr>\n",
       "    <tr>\n",
       "      <th>79998</th>\n",
       "      <td>1</td>\n",
       "      <td>49</td>\n",
       "      <td>4</td>\n",
       "      <td>335.32</td>\n",
       "      <td>1</td>\n",
       "      <td>49</td>\n",
       "      <td>335.32</td>\n",
       "    </tr>\n",
       "    <tr>\n",
       "      <th>79999</th>\n",
       "      <td>1</td>\n",
       "      <td>30</td>\n",
       "      <td>1</td>\n",
       "      <td>527.12</td>\n",
       "      <td>3</td>\n",
       "      <td>30</td>\n",
       "      <td>527.12</td>\n",
       "    </tr>\n",
       "  </tbody>\n",
       "</table>\n",
       "<p>79979 rows × 7 columns</p>\n",
       "</div>"
      ],
      "text/plain": [
       "       type  age  items   amount  region  ageBin   amtBin\n",
       "0         0   37      4   281.03       2      37   281.03\n",
       "1         0   35      2   219.51       2      35   219.51\n",
       "2         1   45      3  1525.70       4      45  1525.70\n",
       "3         1   46      3   715.25       3      46   715.25\n",
       "4         1   33      4  1937.50       1      33  1937.50\n",
       "...     ...  ...    ...      ...     ...     ...      ...\n",
       "79995     1   71      3   558.82       1      71   558.82\n",
       "79996     0   59      7  1932.00       3      59  1932.00\n",
       "79997     0   54      1   414.16       2      54   414.16\n",
       "79998     1   49      4   335.32       1      49   335.32\n",
       "79999     1   30      1   527.12       3      30   527.12\n",
       "\n",
       "[79979 rows x 7 columns]"
      ]
     },
     "execution_count": 45,
     "metadata": {},
     "output_type": "execute_result"
    }
   ],
   "source": [
    "data[\"ageBin\"] = data[\"age\"]\n",
    "data[\"ageBin\"].replace({\"0-18\":1,\"19-37\":2,\"38-56\":3,\"57-75\":4,\"75-93\":5}, inplace =True)\n",
    "\n",
    "\n",
    "data[\"amtBin\"] = data[\"amount\"]\n",
    "data[\"amtBin\"].replace({\"$0-700\":1,\"$701-1400\":2,\"$1401-2100\":3,\"$2101-3000\":4}, inplace = True)\n",
    "data"
   ]
  },
  {
   "cell_type": "code",
   "execution_count": 46,
   "id": "0cb0f4f6",
   "metadata": {},
   "outputs": [
    {
     "data": {
      "text/plain": [
       "0    37\n",
       "1    35\n",
       "2    45\n",
       "3    46\n",
       "4    33\n",
       "Name: age, dtype: int64"
      ]
     },
     "execution_count": 46,
     "metadata": {},
     "output_type": "execute_result"
    }
   ],
   "source": [
    "# For question 3b): set region as dv\n",
    "\n",
    "\n",
    "Y_oobQ3 = data['region']\n",
    "# select IVs/features\n",
    "X_oobQ3 = data[['type','ageBin','items','amtBin']]\n",
    "# select Age/Amt binned features\n",
    "X_oobQ3ageAmt = data[['type','ageBin','items','amtBin']]\n",
    "x.head()"
   ]
  },
  {
   "cell_type": "code",
   "execution_count": 47,
   "id": "15bfb114",
   "metadata": {},
   "outputs": [
    {
     "data": {
      "text/plain": [
       "0    2\n",
       "1    2\n",
       "2    4\n",
       "3    3\n",
       "4    1\n",
       "Name: region, dtype: int64"
      ]
     },
     "execution_count": 47,
     "metadata": {},
     "output_type": "execute_result"
    }
   ],
   "source": [
    "y.head()"
   ]
  },
  {
   "cell_type": "code",
   "execution_count": 48,
   "id": "9031464d",
   "metadata": {},
   "outputs": [
    {
     "data": {
      "text/plain": [
       "0    37\n",
       "1    35\n",
       "2    45\n",
       "3    46\n",
       "4    33\n",
       "Name: age, dtype: int64"
      ]
     },
     "execution_count": 48,
     "metadata": {},
     "output_type": "execute_result"
    }
   ],
   "source": [
    "## For questions Q4a/Q4b): set in-store as dv \n",
    "Y_oobQ4 = data['type']\n",
    "X_oobQ4 = data[['region','ageBin','items','amtBin']]\n",
    "# select Age/Amt binned features\n",
    "X_oobQ4ageAmt = data[['region','ageBin','items','amtBin']]\n",
    "x.head()"
   ]
  },
  {
   "cell_type": "code",
   "execution_count": 49,
   "id": "d32743a2",
   "metadata": {},
   "outputs": [
    {
     "data": {
      "text/plain": [
       "0    2\n",
       "1    2\n",
       "2    4\n",
       "3    3\n",
       "4    1\n",
       "Name: region, dtype: int64"
      ]
     },
     "execution_count": 49,
     "metadata": {},
     "output_type": "execute_result"
    }
   ],
   "source": [
    "y.head()"
   ]
  },
  {
   "cell_type": "code",
   "execution_count": 50,
   "id": "680a4cdf",
   "metadata": {},
   "outputs": [],
   "source": [
    "#Q4b\n",
    "Y_oobQ4B = data['type']\n",
    "X_oobQ4B = data[['region','ageBin','items','amtBin']]"
   ]
  },
  {
   "cell_type": "code",
   "execution_count": 111,
   "id": "e17d41d4",
   "metadata": {},
   "outputs": [
    {
     "data": {
      "image/png": "[encoded data removed]",
      "text/plain": [
       "<Figure size 432x288 with 1 Axes>"
      ]
     },
     "metadata": {
      "needs_background": "light"
     },
     "output_type": "display_data"
    }
   ],
   "source": [
    "np.random.seed(1)\n",
    "df.groupby('region')['in-store']\\\n",
    "    .value_counts()\\\n",
    "    .unstack(level=1)\\\n",
    "    .plot.bar(stacked=True)\n",
    "plt.ylabel('amount')\n",
    "plt.xlabel('region')\n",
    "plt.show()"
   ]
  },
  {
   "cell_type": "markdown",
   "id": "6425a052",
   "metadata": {},
   "source": [
    "### Create train and test sets"
   ]
  },
  {
   "cell_type": "code",
   "execution_count": 51,
   "id": "c3983b9a",
   "metadata": {},
   "outputs": [
    {
     "name": "stdout",
     "output_type": "stream",
     "text": [
      "(55985, 4) (23994, 4)\n",
      "(55985,) (23994,)\n"
     ]
    }
   ],
   "source": [
    "# Q3b) region as dv; un-binned data\n",
    "\n",
    "X_trainQ3, X_testQ3, Y_trainQ3, Y_testQ3 = train_test_split(X_oobQ3, \n",
    "                                            Y_oobQ3, \n",
    "                                            test_size = .30, \n",
    "                                            random_state = seed)\n",
    "\n",
    "print(X_trainQ3.shape, X_testQ3.shape)\n",
    "print(Y_trainQ3.shape, Y_testQ3.shape)"
   ]
  },
  {
   "cell_type": "code",
   "execution_count": 52,
   "id": "5873dfba",
   "metadata": {},
   "outputs": [
    {
     "name": "stdout",
     "output_type": "stream",
     "text": [
      "(55985, 4) (23994, 4)\n",
      "(55985,) (23994,)\n"
     ]
    }
   ],
   "source": [
    "# Q4a) in-store as dv\n",
    "\n",
    "X_trainQ4, X_testQ4, Y_trainQ4, Y_testQ4 = train_test_split(X_oobQ4, \n",
    "                                            Y_oobQ4, \n",
    "                                            test_size = .30, \n",
    "                                            random_state = seed)\n",
    "\n",
    "print(X_trainQ4.shape, X_testQ4.shape)\n",
    "print(Y_trainQ4.shape, Y_testQ4.shape)"
   ]
  },
  {
   "cell_type": "code",
   "execution_count": 53,
   "id": "950007c9",
   "metadata": {},
   "outputs": [
    {
     "name": "stdout",
     "output_type": "stream",
     "text": [
      "(55985, 4) (23994, 4)\n",
      "(55985,) (23994,)\n"
     ]
    }
   ],
   "source": [
    "#Q4b\n",
    "Y_oobQ4B = data['type']\n",
    "X_oobQ4B = data[['region','age','items','amount']]\n",
    "# Q4b) in-store as dv; age binned & amount binned\n",
    "\n",
    "X_trainQ4B, X_testQ4B, Y_trainQ4B, Y_testQ4B = train_test_split(X_oobQ4B, \n",
    "                                            Y_oobQ4B, \n",
    "                                            test_size = .30, \n",
    "                                            random_state = seed)\n",
    "\n",
    "print(X_trainQ4B.shape, X_testQ4B.shape)\n",
    "print(Y_trainQ4B.shape, Y_testQ4B.shape)"
   ]
  },
  {
   "cell_type": "markdown",
   "id": "4a7b832a",
   "metadata": {},
   "source": [
    "# Modeling"
   ]
  },
  {
   "cell_type": "markdown",
   "id": "6cbe50c4",
   "metadata": {},
   "source": [
    "#### Two purposes of modeling:"
   ]
  },
  {
   "cell_type": "markdown",
   "id": "490bae0c",
   "metadata": {},
   "source": [
    "* 1) Evaluate patterns in data\n",
    "* 2) Make predictions"
   ]
  },
  {
   "cell_type": "markdown",
   "id": "4a802e7c",
   "metadata": {},
   "source": [
    "## Evaluate patterns in data using a Decision Tree (DT)"
   ]
  },
  {
   "cell_type": "markdown",
   "id": "af0e45bb",
   "metadata": {},
   "source": [
    "### dv = region"
   ]
  },
  {
   "cell_type": "code",
   "execution_count": 54,
   "id": "c708757b",
   "metadata": {},
   "outputs": [
    {
     "name": "stdout",
     "output_type": "stream",
     "text": [
      "0.6351171126114862\n",
      "              precision    recall  f1-score   support\n",
      "\n",
      "           1       0.41      0.68      0.51      4838\n",
      "           2       0.90      1.00      0.95      5979\n",
      "           3       0.54      0.11      0.18      5391\n",
      "           4       0.65      0.70      0.67      7786\n",
      "\n",
      "    accuracy                           0.64     23994\n",
      "   macro avg       0.63      0.62      0.58     23994\n",
      "weighted avg       0.64      0.64      0.60     23994\n",
      "\n"
     ]
    }
   ],
   "source": [
    "# use the dataset that has region as the dv\n",
    "\n",
    "# run code to fit and predict the DecisionTreeClassifier\n",
    "\n",
    "\n",
    "# select DT model for classification\n",
    "dt = DecisionTreeClassifier(max_depth=3)\n",
    "\n",
    "# train/fit the mode using region as dv, and binned by age & amt\n",
    "dtModel3 = dt.fit(X_trainQ3, Y_trainQ3)\n",
    "\n",
    "# make predicitons with the trained/fit model\n",
    "dtPred3 = dtModel3.predict(X_testQ3)\n",
    "\n",
    "# performance metrics\n",
    "print(accuracy_score(Y_testQ3, dtPred3))\n",
    "print(classification_report(Y_testQ3, dtPred3))"
   ]
  },
  {
   "cell_type": "code",
   "execution_count": 56,
   "id": "033ab359",
   "metadata": {},
   "outputs": [
    {
     "data": {
      "image/png": "[encoded data removed]",
      "text/plain": [
       "<Figure size 1800x1440 with 1 Axes>"
      ]
     },
     "metadata": {
      "needs_background": "light"
     },
     "output_type": "display_data"
    }
   ],
   "source": [
    "fig = plt.figure(figsize=(25,20))\n",
    "tree = plot_tree(dtModel3, feature_names=data.columns,class_names=['0', '1', '2', '3'], filled=True)"
   ]
  },
  {
   "cell_type": "code",
   "execution_count": null,
   "id": "4650136f",
   "metadata": {},
   "outputs": [],
   "source": [
    "# 3b) Is age in the DT? If so, what decision rules incorporate age? \n",
    "\n",
    "# Other questions: From the above DT, is the 'items' feature in the tree? \n",
    "# What does it mean if it is, or is not, in the tree?"
   ]
  },
  {
   "cell_type": "markdown",
   "id": "6d92900d",
   "metadata": {},
   "source": [
    "### dv = in-store"
   ]
  },
  {
   "cell_type": "code",
   "execution_count": 89,
   "id": "c354a725",
   "metadata": {},
   "outputs": [],
   "source": [
    "# run DT model\n",
    "\n",
    "# code goes here"
   ]
  },
  {
   "cell_type": "code",
   "execution_count": 90,
   "id": "760ff953",
   "metadata": {},
   "outputs": [
    {
     "name": "stdout",
     "output_type": "stream",
     "text": [
      "0.8380428440443444\n",
      "              precision    recall  f1-score   support\n",
      "\n",
      "           0       1.00      0.67      0.80     11874\n",
      "           1       0.76      1.00      0.86     12120\n",
      "\n",
      "    accuracy                           0.84     23994\n",
      "   macro avg       0.88      0.84      0.83     23994\n",
      "weighted avg       0.88      0.84      0.83     23994\n",
      "\n"
     ]
    }
   ],
   "source": [
    "# select DT model for classification\n",
    "dt = DecisionTreeClassifier(max_depth=3)\n",
    "\n",
    "# train/fit the mode using region as dv, and binned by age & amt\n",
    "dtModel4 = dt.fit(X_trainQ4, Y_trainQ4)\n",
    "\n",
    "# make predicitons with the trained/fit model\n",
    "dtPred4 = dtModel4.predict(X_testQ4)\n",
    "\n",
    "# performance metrics\n",
    "print(accuracy_score(Y_testQ4, dtPred4))\n",
    "print(classification_report(Y_testQ4, dtPred4))"
   ]
  },
  {
   "cell_type": "code",
   "execution_count": 91,
   "id": "92ff70d1",
   "metadata": {},
   "outputs": [
    {
     "data": {
      "image/png": "[encoded data removed]",
      "text/plain": [
       "<Figure size 1800x1440 with 1 Axes>"
      ]
     },
     "metadata": {
      "needs_background": "light"
     },
     "output_type": "display_data"
    }
   ],
   "source": [
    "fig = plt.figure(figsize=(25,20))\n",
    "tree = plot_tree(dtModel4, feature_names=data.columns,class_names=['0', '1'], filled=True)"
   ]
  },
  {
   "cell_type": "code",
   "execution_count": null,
   "id": "230c3be2",
   "metadata": {},
   "outputs": [],
   "source": [
    "# 4b) Do any factors predict if a customer will buy online or\n",
    "# in our stores?"
   ]
  },
  {
   "cell_type": "markdown",
   "id": "00de8f02",
   "metadata": {},
   "source": [
    "# Make Predictions"
   ]
  },
  {
   "cell_type": "markdown",
   "id": "873811ef",
   "metadata": {},
   "source": [
    "* Focus on the following question: Can a model be developed that can accurately classify where a transaction took place (in-store/online)?"
   ]
  },
  {
   "cell_type": "markdown",
   "id": "d7a07267",
   "metadata": {},
   "source": [
    "### Select models"
   ]
  },
  {
   "cell_type": "code",
   "execution_count": 117,
   "id": "f4e463ce",
   "metadata": {},
   "outputs": [],
   "source": [
    "# create empty list and then populate it with the following models\n",
    "\n",
    "models = []\n",
    "models.append(('DT', DecisionTreeClassifier()))\n",
    "models.append(('RF', RandomForestClassifier()))\n",
    "models.append(('GB', GradientBoostingClassifier()))\n",
    "\n",
    "# create empty lists to hold results and model names\n",
    "results = []\n",
    "names = []"
   ]
  },
  {
   "cell_type": "code",
   "execution_count": 115,
   "id": "af27d0fd",
   "metadata": {},
   "outputs": [],
   "source": [
    "algos_Class = []\n",
    "algos_Class.append(('Random Forest Classifier', RandomForestClassifier()))\n",
    "algos_Class.append(('Decision Tree Classifier', DecisionTreeClassifier()))"
   ]
  },
  {
   "cell_type": "code",
   "execution_count": 116,
   "id": "81aaf7ad",
   "metadata": {},
   "outputs": [
    {
     "data": {
      "text/plain": [
       "0.8614236892556473"
      ]
     },
     "execution_count": 116,
     "metadata": {},
     "output_type": "execute_result"
    }
   ],
   "source": [
    "from sklearn import ensemble\n",
    "rf_clf= ensemble.RandomForestClassifier(n_estimators=100)\n",
    "rf_clf.fit(X_trainQ4, Y_trainQ4)\n",
    "rf_clf.score(X_testQ4, Y_testQ4)"
   ]
  },
  {
   "cell_type": "code",
   "execution_count": 118,
   "id": "2888dbb5",
   "metadata": {},
   "outputs": [
    {
     "data": {
      "text/plain": [
       "0.88367925314662"
      ]
     },
     "execution_count": 118,
     "metadata": {},
     "output_type": "execute_result"
    }
   ],
   "source": [
    "gb_clf= ensemble.GradientBoostingClassifier(n_estimators=40)\n",
    "gb_clf.fit(X_trainQ4, Y_trainQ4)\n",
    "gb_clf.score(X_testQ4, Y_testQ4)"
   ]
  },
  {
   "cell_type": "markdown",
   "id": "18543ea5",
   "metadata": {},
   "source": [
    "### CV (cross-validation)"
   ]
  },
  {
   "cell_type": "code",
   "execution_count": 119,
   "id": "e1aaf0ad",
   "metadata": {},
   "outputs": [
    {
     "name": "stdout",
     "output_type": "stream",
     "text": [
      "DT 0.8456015551806836\n",
      "RF 0.862445321688924\n",
      "GB 0.8862910539963224\n"
     ]
    }
   ],
   "source": [
    "# Set in-store as dv; unbinned data\n",
    "\n",
    "Y_oobQ4 = data['type']\n",
    "# select IVs/features\n",
    "X_oobQ4 = data[['region','age','items','amount']]\n",
    "for name, model in models:\n",
    "    kfold = KFold(n_splits=3, random_state=seed, shuffle=True)\n",
    "    result = cross_val_score(model,\n",
    "                             X_trainQ4,\n",
    "                             Y_trainQ4,   \n",
    "                             cv=kfold,\n",
    "                             scoring='accuracy')\n",
    "    names.append(name)\n",
    "    results.append(result)\n",
    "    #msg = '%s: %.4f (%.4f)' % (name, result.mean(), result.std())\n",
    "    #print(msg)\n",
    "\n",
    "# print results\n",
    "for i in range(len(names)):\n",
    "    print(names[i],results[i].mean())"
   ]
  },
  {
   "cell_type": "code",
   "execution_count": 120,
   "id": "20f4d794",
   "metadata": {},
   "outputs": [
    {
     "name": "stdout",
     "output_type": "stream",
     "text": [
      "DT 0.8456015551806836\n",
      "RF 0.862445321688924\n",
      "GB 0.8862910539963224\n",
      "DT 0.8459766719260253\n",
      "RF 0.8628025710830319\n",
      "GB 0.8862910539963224\n"
     ]
    }
   ],
   "source": [
    "# Same as above, but using binned data for age and amount\n",
    "Y_oobQ4 = data['type']\n",
    "# select Age/Amt binned features\n",
    "X_oobQ4ageAmt = data[['region','ageBin','items','amtBin']]\n",
    "for name, model in models:\n",
    "    kfold = KFold(n_splits=3, random_state=seed, shuffle=True)\n",
    "    result = cross_val_score(model,\n",
    "                             X_trainQ4,\n",
    "                             Y_trainQ4,   \n",
    "                             cv=kfold,\n",
    "                             scoring='accuracy')\n",
    "    names.append(name)\n",
    "    results.append(result)\n",
    "    #msg = '%s: %.4f (%.4f)' % (name, result.mean(), result.std())\n",
    "    #print(msg)\n",
    "\n",
    "# print results\n",
    "for i in range(len(names)):\n",
    "    print(names[i],results[i].mean())"
   ]
  },
  {
   "cell_type": "code",
   "execution_count": null,
   "id": "b44d7c93",
   "metadata": {},
   "outputs": [],
   "source": [
    "# Based all of the above model runs, which is the most accurate?\n",
    "# Is the accuracy of the top model higher than 75%?"
   ]
  },
  {
   "cell_type": "code",
   "execution_count": null,
   "id": "5612f947",
   "metadata": {},
   "outputs": [],
   "source": [
    "?cross_val_score"
   ]
  }
 ],
 "metadata": {
  "kernelspec": {
   "display_name": "Python 3",
   "language": "python",
   "name": "python3"
  },
  "language_info": {
   "codemirror_mode": {
    "name": "ipython",
    "version": 3
   },
   "file_extension": ".py",
   "mimetype": "text/x-python",
   "name": "python",
   "nbconvert_exporter": "python",
   "pygments_lexer": "ipython3",
   "version": "3.9.5"
  }
 },
 "nbformat": 4,
 "nbformat_minor": 5
}
